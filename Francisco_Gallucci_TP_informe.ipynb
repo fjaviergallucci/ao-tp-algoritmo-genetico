{
  "cells": [
    {
      "attachments": {},
      "cell_type": "markdown",
      "metadata": {
        "id": "hVbXYX-RfPWh"
      },
      "source": [
        "# Algoritmos de optimización - Seminario<br>\n",
        "Nombre y Apellidos: Francisco Gallucci  <br>\n",
        "Url: https://github.com/fjaviergallucci/ao-tp-algoritmo-genetico<br>\n",
        "Colab:  https://colab.research.google.com/drive/1RcZmnhmov3Dqthi6ICDtzqbWRMvjA8Og?usp=sharing<br>\n",
        "Colab codigo:  https://colab.research.google.com/drive/1j4jRu21Birtrrf8gxZf5plSmFaFBvHnD?usp=sharing<br>\n",
        "Problema:\n",
        ">3. Combinar cifras y operaciones\n",
        "\n",
        "Descripción del problema:(copiar enunciado)\n",
        "-   El problema consiste en analizar el siguiente problema y diseñar un algoritmo que lo resuelva.\n",
        "-   Disponemos de las 9 cifras del 1 al 9 (excluimos el cero) y de los 4 signos básicos de las\n",
        "operaciones fundamentales: suma(+), resta(-), multiplicación(*) y división(/)\n",
        "-   Debemos combinarlos alternativamente sin repetir ninguno de ellos para obtener una cantidad\n",
        "dada. Un ejemplo sería para obtener el 4:\n",
        "-   Debe analizarse el problema para encontrar todos los valores enteros posibles planteando las siguientes cuestiones:\n",
        "-   ¿Qué valor máximo y mínimo se pueden obtener según las condiciones del problema?\n",
        "-   ¿Es posible encontrar todos los valores enteros posibles entre dicho mínimo y máximo ?\n",
        "-   Nota: Es posible usar la función de python “eval” para evaluar una expresión:\n",
        "....\n",
        "\n",
        "(*) La respuesta es obligatoria"
      ]
    },
    {
      "cell_type": "code",
      "execution_count": null,
      "metadata": {
        "id": "AiskKkzZfy4e"
      },
      "outputs": [],
      "source": []
    },
    {
      "cell_type": "markdown",
      "metadata": {
        "id": "3_-exlrTgLd-"
      },
      "source": [
        "(*)¿Cuantas posibilidades hay sin tener en cuenta las restricciones?<br>\n",
        "\n",
        "\n",
        "\n",
        "¿Cuantas posibilidades hay teniendo en cuenta todas las restricciones.\n",
        "\n",
        "\n"
      ]
    },
    {
      "attachments": {},
      "cell_type": "markdown",
      "metadata": {
        "id": "WfCUqJyKhPcw"
      },
      "source": [
        "Respuesta\n",
        "Entendiendo las restricciones por:\n",
        "-   Conjunto de números del 1 al 9\n",
        "-   Conjunto de operadores: +-*/\n",
        "-   No se pueden repetir los números ni operadores\n",
        "-   Estructura es un número seguido de un operador, por ejemplo \"1+2-3*4/5\", para un total de 5 números y los 4 operadores, 9 elementos\n",
        "\n",
        "Teniendo en cuenta las restricciones anteriores, se calculan las permutaciones sin repetición de números agrupados en 5, luego de operadores agrupados en 4 y se multiplican ambos. La cantidad de permutaciones sin repetición para los números es 15120. La cantidad de permutaciones sin repetición para los operadores es 24. Multiplicando luego 15120*24=362880\n",
        "\n",
        "Sin tener en cuenta las restricciones anteriores, quiere decir que se pueden repetir los elementos, y, no tiene que respetar la estructura, por lo tanto puede tener cualquier longitud. Se calculan las permutaciones con repetición del total de elementos, que seria \"123456789+-*/\", obteniendo como resultado un total de 259459200 permutaciones"
      ]
    },
    {
      "cell_type": "code",
      "execution_count": 1,
      "metadata": {
        "id": "iq6Fe32MgpDX"
      },
      "outputs": [
        {
          "name": "stdout",
          "output_type": "stream",
          "text": [
            "Permutaciones sin repeticion: 362880\n",
            "Permutaciones con repeticion: 259459200\n"
          ]
        }
      ],
      "source": [
        "from itertools import permutations\n",
        "\n",
        "_NUMBERS = '123456789'\n",
        "_OPERATIONS = '+-*/'\n",
        "\n",
        "# Calculando sin repeticiones\n",
        "number_permutations_count = sum(1 for _ in permutations(_NUMBERS, 5))\n",
        "operators_permutations_count = sum(1 for _ in permutations(_OPERATIONS, 4))\n",
        "total_permutations = number_permutations_count * operators_permutations_count\n",
        "print(f'Permutaciones sin repeticion: {total_permutations}')\n",
        "\n",
        "\n",
        "# Calculando con repeticiones\n",
        "total_permutations = sum(1 for _ in permutations(_NUMBERS+_OPERATIONS, 9))\n",
        "print(f'Permutaciones con repeticion: {total_permutations}')"
      ]
    },
    {
      "cell_type": "markdown",
      "metadata": {
        "id": "dzynfVJahHoY"
      },
      "source": [
        "Modelo para el espacio de soluciones<br>\n",
        "(*) ¿Cual es la estructura de datos que mejor se adapta al problema? Argumentalo.(Es posible que hayas elegido una al principio y veas la necesidad de cambiar, arguentalo)\n"
      ]
    },
    {
      "attachments": {},
      "cell_type": "markdown",
      "metadata": {
        "id": "xFIJrOwKi2Ti"
      },
      "source": [
        "Respuesta:\n",
        "Diccionario clave -> valor. Como clave la expresion y como valor la evaluación de esa expresión\n",
        "\n",
        "De esa forma el guardar y buscar expresiones es mucho más rápido ya que solo se accede al índice en el diccionario directamente. Y en el caso de búsqueda por valor, como ya está calculada la eval, solo se accede a la misma a través de la clave en el diccionario"
      ]
    },
    {
      "cell_type": "code",
      "execution_count": 2,
      "metadata": {
        "id": "38c-7-ejhJmA"
      },
      "outputs": [
        {
          "name": "stdout",
          "output_type": "stream",
          "text": [
            "{'1+2-3*4/5': 0.6000000000000001, '3+4/5*7-8': 0.6000000000000014}\n"
          ]
        }
      ],
      "source": [
        "expression1 = \"1+2-3*4/5\"\n",
        "expression2 = \"3+4/5*7-8\"\n",
        "population = { expression1 : eval(expression1), expression2 : eval(expression2) }\n",
        "print(population)"
      ]
    },
    {
      "cell_type": "markdown",
      "metadata": {
        "id": "7Z9U2W7bi-XS"
      },
      "source": [
        "Según el modelo para el espacio de soluciones<br>\n",
        "(*)¿Cual es la función objetivo?\n",
        "\n",
        "(*)¿Es un problema de maximización o minimización?"
      ]
    },
    {
      "attachments": {},
      "cell_type": "markdown",
      "metadata": {
        "id": "hBalWLM7j1_d"
      },
      "source": [
        "Respuesta pregunta función objetivo\n",
        "En el caso de la búsqueda de un número, la función objetivo es que la expresión generada de como resultado el número buscado.\n",
        "En el caso de conseguir el máximo, mínimo y números enteros intermedios de todas las permutaciones, es solo asegurarse se generan todas las posibles\n",
        "\n",
        "Respuesta pregunta maximización o minimización\n",
        "Ninguno, es de búsqueda"
      ]
    },
    {
      "cell_type": "code",
      "execution_count": null,
      "metadata": {
        "id": "pDA-rg3Gj5Lz"
      },
      "outputs": [],
      "source": []
    },
    {
      "cell_type": "markdown",
      "metadata": {
        "id": "rlnTYgY1j6I2"
      },
      "source": [
        "Diseña un algoritmo para resolver el problema por fuerza bruta"
      ]
    },
    {
      "cell_type": "markdown",
      "metadata": {
        "id": "70rDgxYXkC8r"
      },
      "source": [
        "Respuesta"
      ]
    },
    {
      "cell_type": "code",
      "execution_count": 4,
      "metadata": {
        "id": "CJb5sQ0qkENy"
      },
      "outputs": [],
      "source": [
        "from itertools import permutations\n",
        "from itertools import chain\n",
        "from itertools import zip_longest\n",
        "import time\n",
        "_NUMBERS = '123456789'\n",
        "_OPERATIONS = '+-*/'\n",
        "_EXPRESSION_PATTERN = r'^[1-9]{1}[\\-\\+\\*\\/]{1}[1-9]{1}[\\-\\+\\*\\/]{1}[1-9]{1}[\\-\\+\\*\\/]{1}[1-9]{1}[\\-\\+\\*\\/]{1}[1-9]$'\n",
        "\n",
        "def find_expressions(target: int = None):\n",
        "    \"\"\"Funcion principal que genera todas las permutaciones o expresiones posibles y devuelve:\n",
        "\n",
        "    Args:\n",
        "      target: El numero para el cual se desan generar expresiones. Si no se pasa el target, se generaran todas las posibles permutaciones. Si se define el target, se devolveran solo las permutaciones que al ser evaluadas den ese numero\n",
        "\n",
        "    Returns:\n",
        "      number_permutations: Todas las permutaciones encontradas\n",
        "      integer_permutations: Permutaciones cuya evaluaciones dan numeros enteros\n",
        "      max: Permutacion que devuelve valor maximo\n",
        "      min: Permutacion que devuelve valor minimo\n",
        "    \"\"\"\n",
        "    number_permutations = {}\n",
        "    integer_permutations = {}\n",
        "    max = \"0\"\n",
        "    min = \"0\"\n",
        "    # Como las permutaciones de numeros son cientos de miles, usamos un generador para ahorrar memoria y tiempo de procesamiento\n",
        "    for number in generate_number_yield():\n",
        "        # En el caso particulas de las operaciones se puede pasar este generador a un lista. Pero no hace ninguna diferencia en recursos. Mejor seguir usando generadores\n",
        "        for operation in generate_operations_yield():\n",
        "            # Como ya tenemos todas las posibles permutaciones de operaciones. Lo que hay que hacer es jutnar el numero generado con el orden de los operadores y asi se obtienen todas las permutacioens de un numero con los operadores\n",
        "            expression = generate_expresion(number, operation)\n",
        "            value = eval(expression)\n",
        "\n",
        "            #Si estamos buscando un target y la expresion generada lo cumple, la devolvemos, sino, continuamos\n",
        "            if target is not None and value == target:\n",
        "                return {expression: value}, None, None, None\n",
        "            elif target is None:\n",
        "                number_permutations[expression] = value\n",
        "                # Verificamos si es el nuevo maximo\n",
        "                if value > eval(max):\n",
        "                    max = expression\n",
        "                # Verificamos si es el nuevo minimo\n",
        "                if value < eval(min):\n",
        "                    min = expression\n",
        "                # Lo guardamos si el resultado de la expresion es entero\n",
        "                if abs(value - int(value)) == 0.0:\n",
        "                    integer_permutations[expression] = value\n",
        "    # print(number_combinations)\n",
        "    return number_permutations, integer_permutations, max, min\n",
        "\n",
        "\n",
        "def generate_number_yield():\n",
        "    \"\"\"Genera todas las posibles permutaciones de numeros\n",
        "\n",
        "    Returns:\n",
        "      Yield con el numero o permutacion generada.\n",
        "    \"\"\"\n",
        "    for number in permutations(_NUMBERS, 5):\n",
        "        yield number\n",
        "\n",
        "\n",
        "def generate_operations_yield():\n",
        "    \"\"\"Esta funcion generara todas las posibles permutaciones de operadores\n",
        "\n",
        "    Returns:\n",
        "      Yield con la permutacion generada de los operadores\n",
        "    \"\"\"\n",
        "    for operation in permutations(_OPERATIONS, 4):\n",
        "        yield operation\n",
        "\n",
        "\n",
        "def generate_expresion(number: str, operators: str):\n",
        "    \"\"\"Genera la expresion dado los numeros y los operadores\n",
        "\n",
        "    La funcion recorre ambos strings y genera una combinacion de ambos respetando el orden y la estructura esperada\n",
        "\n",
        "    Args:\n",
        "      number: Permutacion de los numeros, por ejemplo \"37586\"\n",
        "      operators: Permutacion de los operadores, por ejemplo: \"+/*-\"\n",
        "\n",
        "    Returns:\n",
        "      Expression generada\n",
        "    \"\"\"\n",
        "    return \"\".join((filter(lambda x: x != '', chain.from_iterable(\n",
        "        zip_longest(number, operators, fillvalue='')))))\n"
      ]
    },
    {
      "cell_type": "code",
      "execution_count": 5,
      "metadata": {},
      "outputs": [
        {
          "name": "stdout",
          "output_type": "stream",
          "text": [
            "--- 0.0021932125091552734 segundos ---\n",
            "Expresion encontrada: {'1-2*3/6+4': 4.0}\n"
          ]
        }
      ],
      "source": [
        "#Buscar expresiones para el numero\n",
        "_NUMBER_TO_SEARCH = 4\n",
        "start_time = time.time()\n",
        "expressions, _, _, _ = find_expressions(_NUMBER_TO_SEARCH)\n",
        "print(\"--- %s segundos ---\" % (time.time() - start_time))\n",
        "print(f'Expresion encontrada: {expressions}')"
      ]
    },
    {
      "cell_type": "code",
      "execution_count": 6,
      "metadata": {},
      "outputs": [
        {
          "name": "stdout",
          "output_type": "stream",
          "text": [
            "--- 6.920217990875244 segundos ---\n",
            "Cantidad de expresiones: 362880\n",
            "Max = 7-1/6+8*9 = 78.83333333333333\n",
            "Min = 1+2/7-8*9 = -70.71428571428571\n",
            "Cantidad de expresiones con valores enteros: 90000\n",
            "Primeras 10 expresiones con valores enteros encontradas:\n",
            "1+2-3*4/5\n",
            "1+2-3/4*5\n",
            "1+2*3-4/5\n",
            "1+2*3/4-5\n",
            "1+2/3-4*5\n",
            "1+2/3*4-5\n",
            "1-2+3*4/5\n",
            "1-2+3/4*5\n",
            "1-2*3+4/5\n",
            "1-2*3/4+5\n",
            "1-2/3+4*5\n"
          ]
        }
      ],
      "source": [
        "#Encontrar max, min, enteros intermedios\n",
        "start_time = time.time()\n",
        "expressions, integer_expressions, max, min = find_expressions()\n",
        "print(\"--- %s segundos ---\" % (time.time() - start_time))\n",
        "print(f'Cantidad de expresiones: {len(expressions)}')\n",
        "if max in expressions:\n",
        "    print(f'Max = {max} = {expressions[max]}')\n",
        "if min in expressions:\n",
        "    print(f'Min = {min} = {expressions[min]}')\n",
        "print(f'Cantidad de expresiones con valores enteros: {len(integer_expressions)}')\n",
        "print(f'Primeras 10 expresiones con valores enteros encontradas:')\n",
        "count = 0\n",
        "for expresion in expressions:\n",
        "    if count <= 10:\n",
        "        count += 1\n",
        "        print(expresion)"
      ]
    },
    {
      "cell_type": "markdown",
      "metadata": {
        "id": "tgrnsC2nkFa8"
      },
      "source": [
        "Calcula la complejidad del algoritmo por fuerza bruta"
      ]
    },
    {
      "cell_type": "markdown",
      "metadata": {
        "id": "9eUd3xwckP68"
      },
      "source": [
        "Respuesta"
      ]
    },
    {
      "cell_type": "code",
      "execution_count": null,
      "metadata": {
        "id": "rvZWwL-ckRST"
      },
      "outputs": [],
      "source": [
        "Hay dos sub-problemas; el de encontrar un número; y buscar max, min y enteros intermedios de todas las combinaciones. Se asume que la pregunta es sobre el buscar una expresión para un número dado.\n",
        "\n",
        "Peor de los casos es O(n^2)"
      ]
    },
    {
      "cell_type": "markdown",
      "metadata": {
        "id": "txbrmLmskReM"
      },
      "source": [
        "(*)Diseña un algoritmo que mejore la complejidad del algortimo por fuerza bruta. Argumenta porque crees que mejora el algoritmo por fuerza bruta"
      ]
    },
    {
      "attachments": {},
      "cell_type": "markdown",
      "metadata": {
        "id": "hLrVwt5QkZPD"
      },
      "source": [
        "De igual forma hay dos sub-problemas, no queda claro para cual se hace la pregunta.\n",
        "\n",
        "Respuesta\n",
        "Se diseñó un algoritmo genético que dada una población inicial puede: Buscar una expresión que satisfaga un número dado, y buscar el min, max y enteros intermedios de las posibles permutaciones.\n",
        "\n",
        "En el caso de buscar una expresión que satisfaga un número dado, en algunos casos se consigue la expresión más rápido que por fuerza bruta, pero también pudiera tardar más. Esto debido a que tiene un componente de aleatoriedad y mientras las generaciones generadas no contengan la solución, seguirá generando.\n",
        "\n",
        "En el caso de buscar el max, min y enteros intermedios. Se mejora mucho el tiempo para encontrar los mismos valores de max y min, pero, el AG no garantiza que los valores enteros intermedios encontrados sean todos los existentes."
      ]
    },
    {
      "cell_type": "code",
      "execution_count": null,
      "metadata": {
        "id": "m1eyM21Vkabg"
      },
      "outputs": [],
      "source": []
    },
    {
      "cell_type": "markdown",
      "metadata": {
        "id": "eGDB4K6uk1iN"
      },
      "source": [
        "(*)Calcula la complejidad del algoritmo "
      ]
    },
    {
      "attachments": {},
      "cell_type": "markdown",
      "metadata": {
        "id": "NhpTh_BPk1ms"
      },
      "source": [
        "Respuesta\n",
        "Para la función principal del algoritmo genético la complejidad es constante, ya que depende de la cantidad de generaciones que se quieran generar y la cantidad de sujetos para cada población."
      ]
    },
    {
      "cell_type": "code",
      "execution_count": null,
      "metadata": {
        "id": "nREzhkStlCq8"
      },
      "outputs": [],
      "source": []
    },
    {
      "cell_type": "markdown",
      "metadata": {
        "id": "3M6QjTsSkmYe"
      },
      "source": [
        "Según el problema (y tenga sentido), diseña un juego de datos de entrada aleatorios"
      ]
    },
    {
      "cell_type": "markdown",
      "metadata": {
        "id": "Jc3_OlyNkvjZ"
      },
      "source": [
        "Respuesta"
      ]
    },
    {
      "cell_type": "code",
      "execution_count": null,
      "metadata": {
        "id": "sJ-N2etjkyWc"
      },
      "outputs": [],
      "source": []
    },
    {
      "cell_type": "markdown",
      "metadata": {
        "id": "zy5ZROmjlGo1"
      },
      "source": [
        "Aplica el algoritmo al juego de datos generado"
      ]
    },
    {
      "cell_type": "markdown",
      "metadata": {
        "id": "_Cmj-PVylMsa"
      },
      "source": [
        "Respuesta"
      ]
    },
    {
      "cell_type": "code",
      "execution_count": null,
      "metadata": {
        "id": "Jkx8GeiYlUz1"
      },
      "outputs": [],
      "source": []
    },
    {
      "cell_type": "markdown",
      "metadata": {
        "id": "eTFWUJQrtGcv"
      },
      "source": [
        "Enumera las referencias que has utilizado(si ha sido necesario) para llevar a cabo el trabajo"
      ]
    },
    {
      "cell_type": "markdown",
      "metadata": {
        "id": "YKQ_mRBttWsP"
      },
      "source": [
        "Respuesta"
      ]
    },
    {
      "cell_type": "markdown",
      "metadata": {
        "id": "kAkDPUyRtYyH"
      },
      "source": [
        "Describe brevemente las lineas de como crees que es posible avanzar en el estudio del problema. Ten en cuenta incluso posibles variaciones del problema y/o variaciones al alza del tamaño"
      ]
    },
    {
      "attachments": {},
      "cell_type": "markdown",
      "metadata": {
        "id": "IE0uZmo-tZu-"
      },
      "source": [
        "Respuesta\n"
      ]
    }
  ],
  "metadata": {
    "colab": {
      "provenance": []
    },
    "kernelspec": {
      "display_name": "master",
      "language": "python",
      "name": "python3"
    },
    "language_info": {
      "codemirror_mode": {
        "name": "ipython",
        "version": 3
      },
      "file_extension": ".py",
      "mimetype": "text/x-python",
      "name": "python",
      "nbconvert_exporter": "python",
      "pygments_lexer": "ipython3",
      "version": "3.9.13"
    },
    "vscode": {
      "interpreter": {
        "hash": "a9b542ddc182a4db9389a8feb9945d350f0c6a8b624ed789899c7cc09dadef7a"
      }
    }
  },
  "nbformat": 4,
  "nbformat_minor": 0
}
